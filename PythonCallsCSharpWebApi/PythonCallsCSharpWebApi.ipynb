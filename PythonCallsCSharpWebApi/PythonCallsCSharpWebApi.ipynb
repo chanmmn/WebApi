{
 "cells": [
  {
   "cell_type": "code",
   "execution_count": 5,
   "id": "dba8eb2d",
   "metadata": {},
   "outputs": [
    {
     "name": "stdout",
     "output_type": "stream",
     "text": [
      "[{'date': '2023-07-09T00:07:56.7644198+08:00', 'temperatureC': 18, 'temperatureF': 64, 'summary': 'Balmy'}, {'date': '2023-07-10T00:07:56.7644425+08:00', 'temperatureC': 13, 'temperatureF': 55, 'summary': 'Sweltering'}, {'date': '2023-07-11T00:07:56.7644428+08:00', 'temperatureC': 28, 'temperatureF': 82, 'summary': 'Chilly'}, {'date': '2023-07-12T00:07:56.764443+08:00', 'temperatureC': -8, 'temperatureF': 18, 'summary': 'Warm'}, {'date': '2023-07-13T00:07:56.7644431+08:00', 'temperatureC': -19, 'temperatureF': -2, 'summary': 'Scorching'}]\n"
     ]
    }
   ],
   "source": [
    "import requests\n",
    "\n",
    "url = 'http://localhost:5293/weatherforecast'\n",
    "#data =  {'date': 'temperatureC' : 'temperatureF': 'summary'} \n",
    "\n",
    "#response = requests.post(url, data=data)\n",
    "response = requests.get(url)\n",
    "\n",
    "data = response.json()\n",
    "#print(response.json())\n",
    "print(data)\n"
   ]
  },
  {
   "cell_type": "code",
   "execution_count": null,
   "id": "21fb9857",
   "metadata": {},
   "outputs": [],
   "source": []
  },
  {
   "cell_type": "code",
   "execution_count": null,
   "id": "59fcfcca",
   "metadata": {},
   "outputs": [],
   "source": []
  }
 ],
 "metadata": {
  "kernelspec": {
   "display_name": "Python 3 (ipykernel)",
   "language": "python",
   "name": "python3"
  },
  "language_info": {
   "codemirror_mode": {
    "name": "ipython",
    "version": 3
   },
   "file_extension": ".py",
   "mimetype": "text/x-python",
   "name": "python",
   "nbconvert_exporter": "python",
   "pygments_lexer": "ipython3",
   "version": "3.11.3"
  }
 },
 "nbformat": 4,
 "nbformat_minor": 5
}
